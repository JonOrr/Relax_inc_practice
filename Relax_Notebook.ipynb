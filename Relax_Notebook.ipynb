{
 "cells": [
  {
   "cell_type": "markdown",
   "metadata": {},
   "source": [
    "# Relax Inc. Data Science Take-Home Challenge"
   ]
  },
  {
   "cell_type": "markdown",
   "metadata": {},
   "source": [
    "## Introduction\n",
    "Our task is to analyze user engagement with the Relax website and learn which variables relate to user retention. We looked at two files: takehome_user_engagement.csv and takehome_users.csv to first understand which users are adopted users, and how they interact with the website. \n",
    "\n",
    "First some groundwork: Users are considered adopted users if they have logged into the site three or more times within a seven day period. Otherwise we considerd them non-adopted users. \n",
    "\n",
    "To analyze these different users we look at the takehome_users.csv files which contains the following variables: \n",
    "- name\n",
    "- object_id\n",
    "- email\n",
    "- creation_source\n",
    "    -  Personal_Projects: Inivted via another user's personal workspace\n",
    "    -  Guest_Invite: Invited to an organization as a guest (limited permissions)\n",
    "    -  Org_Invite: Inivted to an organization (as a full member)\n",
    "    -  Sign_Up: Signed up via the website\n",
    "    -  Signup_google_auth: signed up using Google Authentication (using a Google email account for their login id)\n",
    "- creation_time\n",
    "- last_session_creation_time\n",
    "- opted_in_to_mailing_list\n",
    "- enabled_for_marketing_drop\n",
    "- org_id\n",
    "- invited_by_user_id"
   ]
  },
  {
   "cell_type": "markdown",
   "metadata": {},
   "source": [
    "#### Imports"
   ]
  },
  {
   "cell_type": "code",
   "execution_count": 1,
   "metadata": {},
   "outputs": [],
   "source": [
    "import pandas as pd\n",
    "import numpy as np\n",
    "import matplotlib.pyplot as plt"
   ]
  },
  {
   "cell_type": "markdown",
   "metadata": {},
   "source": [
    "#### Name and read in the associated files."
   ]
  },
  {
   "cell_type": "code",
   "execution_count": 2,
   "metadata": {},
   "outputs": [],
   "source": [
    "# Set up filenames\n",
    "engagement_file = 'takehome_user_engagement.csv'\n",
    "users_file = 'takehome_users.csv'\n",
    "\n",
    "# Read in the csv files as dataframes\n",
    "e_df = pd.read_csv(engagement_file, encoding='latin-1', header = 0)\n",
    "u_df = pd.read_csv(users_file, encoding='latin-1', header = 0)"
   ]
  },
  {
   "cell_type": "markdown",
   "metadata": {},
   "source": [
    "#### Build lists of adopted and non-adopted users, and a classification. (1 = adopted user, 0 = non-adopted user)"
   ]
  },
  {
   "cell_type": "code",
   "execution_count": 3,
   "metadata": {},
   "outputs": [],
   "source": [
    "no_login_users = []\n",
    "has_login_users = []\n",
    "adopted_users = []\n",
    "non_adopted_users = []\n",
    "classification = []\n",
    "\n",
    "e_id_set = set(e_df['user_id'])\n",
    "\n",
    "for i in range(1, 12001):\n",
    "#    print('Currently working on user_id:', i) # This line is for debugging purposes. Uncomment to see print-out\n",
    "    if i in e_id_set:\n",
    "        has_login_users.append(i)\n",
    "        # cu_df is current user df\n",
    "        cu_df = e_df.loc[e_df['user_id'] == i]\n",
    "        cu_dates = cu_df['time_stamp']\n",
    "        df = pd.to_datetime(cu_dates)\n",
    "        df.index = np.arange(0,len(df))\n",
    "        if len(df) > 2:\n",
    "            for j in range(2,len(df)):\n",
    "                timespan = df[j] - df[j-2]\n",
    "                if timespan.days < 7:\n",
    "                    adopted_users.append(i)            \n",
    "    else:\n",
    "        no_login_users.append(i)\n",
    "         \n",
    "# Conduct set operations and order the lists\n",
    "no_login_users_set = set(no_login_users)\n",
    "has_login_users_set = set(has_login_users)\n",
    "adopted_users_set = set(adopted_users)\n",
    "non_adopted_users_set = has_login_users_set - adopted_users_set\n",
    "\n",
    "adopted_users = list(adopted_users_set)\n",
    "adopted_users = sorted(adopted_users)\n",
    "\n",
    "\n",
    "non_adopted_users = list(non_adopted_users_set)\n",
    "non_adopted_users = sorted(non_adopted_users)\n",
    "\n",
    "# Classification\n",
    "classification = []\n",
    "for i in range(0,12000):\n",
    "    if i in adopted_users:\n",
    "        classification.append(1)\n",
    "    else:\n",
    "        classification.append(0)"
   ]
  },
  {
   "cell_type": "markdown",
   "metadata": {},
   "source": [
    "Next we want to quantify the creation_source column, as entering non-numeric data into our Random Forest Classifier will lead to errors. A simple for loop will take care of this. We execute it for both au_df, and nau_df (Adopted user dataframe and non-adopted user dataframe)"
   ]
  },
  {
   "cell_type": "code",
   "execution_count": 4,
   "metadata": {},
   "outputs": [
    {
     "name": "stderr",
     "output_type": "stream",
     "text": [
      "C:\\Users\\Jon\\Anaconda3\\lib\\site-packages\\ipykernel_launcher.py:23: SettingWithCopyWarning: \n",
      "A value is trying to be set on a copy of a slice from a DataFrame.\n",
      "Try using .loc[row_indexer,col_indexer] = value instead\n",
      "\n",
      "See the caveats in the documentation: http://pandas.pydata.org/pandas-docs/stable/indexing.html#indexing-view-versus-copy\n",
      "C:\\Users\\Jon\\Anaconda3\\lib\\site-packages\\ipykernel_launcher.py:50: SettingWithCopyWarning: \n",
      "A value is trying to be set on a copy of a slice from a DataFrame.\n",
      "Try using .loc[row_indexer,col_indexer] = value instead\n",
      "\n",
      "See the caveats in the documentation: http://pandas.pydata.org/pandas-docs/stable/indexing.html#indexing-view-versus-copy\n"
     ]
    }
   ],
   "source": [
    "au_df = u_df.loc[adopted_users]\n",
    "au_source = au_df['creation_source']\n",
    "au_source.index = np.arange(0,len(au_df))\n",
    "au_source_nums = []\n",
    "for i in range(len(au_source)):\n",
    "    if au_source[i] == 'PERSONAL_PROJECTS':\n",
    "        au_source_nums.append(1)\n",
    "    elif au_source[i] == 'GUEST_INVITE':\n",
    "        au_source_nums.append(2)\n",
    "    elif au_source[i] == 'ORG_INVITE':\n",
    "        au_source_nums.append(3)\n",
    "    elif au_source[i] == 'SIGNUP':\n",
    "        au_source_nums.append(4)\n",
    "    else:\n",
    "        au_source_nums.append(5)\n",
    "\n",
    "\n",
    "au_mailing = au_df['opted_in_to_mailing_list']\n",
    "au_marketing = au_df['enabled_for_marketing_drip']\n",
    "\n",
    "au_small_df = au_df[['creation_source', 'opted_in_to_mailing_list', 'enabled_for_marketing_drip']]\n",
    "au_small_df.index = np.arange(0,len(au_small_df))\n",
    "au_small_df['creation_source'] = au_source_nums\n",
    "\n",
    "# Repeat for Non-Adopted Users (nau)\n",
    "\n",
    "nau_df = u_df.loc[non_adopted_users]\n",
    "nau_source = nau_df['creation_source']\n",
    "nau_source.index = np.arange(0,len(nau_df))\n",
    "nau_source_nums = []\n",
    "for i in range(len(nau_source)):\n",
    "    if nau_source[i] == 'PERSONAL_PROJECTS':\n",
    "        nau_source_nums.append(1)\n",
    "    elif nau_source[i] == 'GUEST_INVITE':\n",
    "        nau_source_nums.append(2)\n",
    "    elif nau_source[i] == 'ORG_INVITE':\n",
    "        nau_source_nums.append(3)\n",
    "    elif nau_source[i] == 'SIGNUP':\n",
    "        nau_source_nums.append(4)\n",
    "    else:\n",
    "        nau_source_nums.append(5)\n",
    "        \n",
    "# A couple more tidying up steps\n",
    "nau_mailing = nau_df['opted_in_to_mailing_list']\n",
    "nau_marketing = nau_df['enabled_for_marketing_drip']\n",
    "\n",
    "\n",
    "nau_small_df = nau_df[['creation_source', 'opted_in_to_mailing_list', 'enabled_for_marketing_drip']]\n",
    "nau_small_df.index = np.arange(0,len(nau_small_df))\n",
    "nau_small_df['creation_source'] = nau_source_nums"
   ]
  },
  {
   "cell_type": "markdown",
   "metadata": {},
   "source": [
    "#### Plot the quantifiable non-ID non-time-series variables \n",
    "It is important to note that in a larger scale projects I would suggest that Relax Inc. investigate if the user id's that referred individuals were assigned to adopted users. As this would suggest that users who enthusiastically used the web service could be more likely to recommend the service to their friends and colleagues. "
   ]
  },
  {
   "cell_type": "code",
   "execution_count": 5,
   "metadata": {},
   "outputs": [
    {
     "name": "stdout",
     "output_type": "stream",
     "text": [
      "Few variables Adopted Users\n"
     ]
    },
    {
     "data": {
      "image/png": "[encoded data removed]",
      "text/plain": [
       "<matplotlib.figure.Figure at 0x1d2267469b0>"
      ]
     },
     "metadata": {},
     "output_type": "display_data"
    },
    {
     "name": "stdout",
     "output_type": "stream",
     "text": [
      "\n",
      "\n",
      "Few variables Non-Adopted Users\n"
     ]
    },
    {
     "data": {
      "text/plain": [
       "<matplotlib.figure.Figure at 0x1d2272b40f0>"
      ]
     },
     "metadata": {},
     "output_type": "display_data"
    },
    {
     "data": {
      "image/png": "[encoded data removed]",
      "text/plain": [
       "<matplotlib.figure.Figure at 0x1d22705d898>"
      ]
     },
     "metadata": {},
     "output_type": "display_data"
    }
   ],
   "source": [
    "# Few variables hist\n",
    "print('Few variables Adopted Users')\n",
    "au_small_group_hist  = au_small_df.hist(bins = 5, color = 'green')\n",
    "plt.show()\n",
    "plt.clf()\n",
    "print('\\n\\nFew variables Non-Adopted Users')\n",
    "nau_small_group_hist = nau_small_df.hist(bins = 5, color = 'red')\n",
    "plt.show()\n",
    "plt.clf()"
   ]
  },
  {
   "cell_type": "markdown",
   "metadata": {},
   "source": [
    "Notice that the ratios of these bar plots are fairly similar. While there is some minor visual difference in the creation_source plots that leads us to hypothesize that creation_source will be the most important variable, we will want to compare these to the results of the feature_importances_ of the Random Forest Classifier."
   ]
  },
  {
   "cell_type": "markdown",
   "metadata": {},
   "source": [
    "#### Add a classifier column to the user data frame and prep for machine learning"
   ]
  },
  {
   "cell_type": "code",
   "execution_count": 6,
   "metadata": {},
   "outputs": [],
   "source": [
    "# Add a classifier column to the original dataframe that indicates\n",
    "# an adopted or a non-adopted user.\n",
    "# Then create a random forest classifier\n",
    "# Then get importances\n",
    "\n",
    "u_source = u_df['creation_source']\n",
    "u_source_nums = []\n",
    "for i in range(len(u_source)):\n",
    "    if u_source[i] == 'PERSONAL_PROJECTS':\n",
    "        u_source_nums.append(1)\n",
    "    elif u_source[i] == 'GUEST_INVITE':\n",
    "        u_source_nums.append(2)\n",
    "    elif u_source[i] == 'ORG_INVITE':\n",
    "        u_source_nums.append(3)\n",
    "    elif u_source[i] == 'SIGNUP':\n",
    "        u_source_nums.append(4)\n",
    "    else:\n",
    "        u_source_nums.append(5)\n",
    "u_df['creation_source'] = u_source_nums\n",
    "u_df['classification'] = classification\n",
    "\n",
    "# Create small u_df   \n",
    "su_df = u_df[['classification', 'creation_source', \n",
    "              'opted_in_to_mailing_list', \n",
    "              'enabled_for_marketing_drip']] "
   ]
  },
  {
   "cell_type": "markdown",
   "metadata": {},
   "source": [
    "#### Imports for Machine Learning"
   ]
  },
  {
   "cell_type": "code",
   "execution_count": 7,
   "metadata": {},
   "outputs": [
    {
     "name": "stderr",
     "output_type": "stream",
     "text": [
      "C:\\Users\\Jon\\Anaconda3\\lib\\site-packages\\sklearn\\cross_validation.py:41: DeprecationWarning: This module was deprecated in version 0.18 in favor of the model_selection module into which all the refactored classes and functions are moved. Also note that the interface of the new CV iterators are different from that of this module. This module will be removed in 0.20.\n",
      "  \"This module will be removed in 0.20.\", DeprecationWarning)\n"
     ]
    }
   ],
   "source": [
    "from sklearn.ensemble import RandomForestClassifier\n",
    "from sklearn.cross_validation import train_test_split\n",
    "from sklearn.metrics import accuracy_score"
   ]
  },
  {
   "cell_type": "markdown",
   "metadata": {},
   "source": [
    "#### Train test split"
   ]
  },
  {
   "cell_type": "code",
   "execution_count": 8,
   "metadata": {},
   "outputs": [],
   "source": [
    "X = su_df[['creation_source', 'opted_in_to_mailing_list', 'enabled_for_marketing_drip']]\n",
    "y = su_df['classification']\n",
    "X_train, X_test, y_train, y_test = train_test_split(X,y, test_size = 0.3, random_state = 42)     \n"
   ]
  },
  {
   "cell_type": "markdown",
   "metadata": {},
   "source": [
    "Build the training model"
   ]
  },
  {
   "cell_type": "code",
   "execution_count": 9,
   "metadata": {},
   "outputs": [
    {
     "name": "stdout",
     "output_type": "stream",
     "text": [
      "Finished Predictions for small df\n",
      "0.873888888889\n"
     ]
    }
   ],
   "source": [
    "clf = RandomForestClassifier(random_state = 42)\n",
    "# print('Training Model: ')\n",
    "clf.fit(X_train, y_train)\n",
    "y_pred = clf.predict(X_test)\n",
    "print('Finished Predictions for small df')\n",
    "print(accuracy_score(y_test, y_pred))  "
   ]
  },
  {
   "cell_type": "markdown",
   "metadata": {},
   "source": [
    "#### Feature Importances"
   ]
  },
  {
   "cell_type": "code",
   "execution_count": 10,
   "metadata": {},
   "outputs": [
    {
     "name": "stdout",
     "output_type": "stream",
     "text": [
      "                            importance\n",
      "feature                               \n",
      "creation_source                  0.751\n",
      "enabled_for_marketing_drip       0.166\n",
      "opted_in_to_mailing_list         0.083\n"
     ]
    },
    {
     "data": {
      "text/plain": [
       "<matplotlib.figure.Figure at 0x1d22705d550>"
      ]
     },
     "metadata": {},
     "output_type": "display_data"
    },
    {
     "data": {
      "image/png": "[encoded data removed]",
      "text/plain": [
       "<matplotlib.figure.Figure at 0x1d22c1b79b0>"
      ]
     },
     "metadata": {},
     "output_type": "display_data"
    }
   ],
   "source": [
    "feature_imps = clf.feature_importances_\n",
    "importances = pd.DataFrame({'feature':X_train.columns,'importance':np.round(clf.feature_importances_,3)})\n",
    "importances = importances.sort_values('importance',ascending=False).set_index('feature')\n",
    "print(importances)\n",
    "importances.plot.bar()\n",
    "plt.show()\n",
    "plt.clf()"
   ]
  },
  {
   "cell_type": "markdown",
   "metadata": {},
   "source": [
    "As expected from the minor difference in the minor difference in creation source between adopted and non-adopted users, creation_source is the most important variable. But how important are the variables in determining who is the most likely to adopt the service. To determine this we look at the predicted probabilities of becoming an adopted user."
   ]
  },
  {
   "cell_type": "markdown",
   "metadata": {},
   "source": [
    "#### Predicting probabilities using quantile ranges. \n",
    "The quantile ranges were developed using pd.qcut"
   ]
  },
  {
   "cell_type": "code",
   "execution_count": 11,
   "metadata": {},
   "outputs": [],
   "source": [
    "# Now look at predict proba\n",
    "probability = clf.predict_proba(X)\n",
    "\n",
    "df_new = su_df.copy()\n",
    "df_new['Probability_of_Adoption'] = probability[:,1]\n",
    "\n",
    "Q1 = [] # [0.0432, 0.121]\n",
    "Q2 = [] # (0.121, 0.123]\n",
    "Q3 = [] # (0.123, 0.125]\n",
    "Q4 = [] # (0.125, 0.133]\n",
    "Q5 = [] # (0.133, 0.142]\n",
    "Q6 = [] # (0.142, 0.148]\n",
    "Q7 = [] # (0.148, 0.152]\n",
    "Q8 = [] # (0.152, 0.222]\n",
    "\n",
    "for i in range(len(df_new)):\n",
    "    if 0.0432 <= df_new['Probability_of_Adoption'][i] <= 0.121:\n",
    "        Q1.append(i)\n",
    "        \n",
    "    elif 0.121 <= df_new['Probability_of_Adoption'][i] <= 0.123:\n",
    "        Q2.append(i)\n",
    "        \n",
    "    elif 0.123 < df_new['Probability_of_Adoption'][i] <= 0.125:\n",
    "        Q3.append(i)\n",
    "        \n",
    "    elif 0.125 < df_new['Probability_of_Adoption'][i] <= 0.133:\n",
    "        Q4.append(i)\n",
    "    \n",
    "    elif 0.133 < df_new['Probability_of_Adoption'][i] <= 0.142:\n",
    "        Q5.append(i)   \n",
    "        \n",
    "    elif 0.142 < df_new['Probability_of_Adoption'][i] <= 0.148:\n",
    "        Q6.append(i)\n",
    "        \n",
    "    elif 0.148 < df_new['Probability_of_Adoption'][i] <= 0.152:\n",
    "        Q7.append(i)\n",
    "        \n",
    "    elif 0.152 < df_new['Probability_of_Adoption'][i] <= 0.222:\n",
    "        Q8.append(i)\n",
    "        \n",
    "q1_df = df_new.loc[Q1]\n",
    "q2_df = df_new.loc[Q2]\n",
    "q3_df = df_new.loc[Q3]\n",
    "q4_df = df_new.loc[Q4]\n",
    "q5_df = df_new.loc[Q5]\n",
    "q6_df = df_new.loc[Q6]\n",
    "q7_df = df_new.loc[Q7]\n",
    "q8_df = df_new.loc[Q8]\n"
   ]
  },
  {
   "cell_type": "markdown",
   "metadata": {},
   "source": [
    "#### Note on fixed random state: \n",
    "We fix the random state below to solve the issue of quantiles being empty depending on different train test splits. In this split quantile 2 and 7 are empty in this random_state = 42\n"
   ]
  },
  {
   "cell_type": "code",
   "execution_count": 12,
   "metadata": {},
   "outputs": [
    {
     "name": "stdout",
     "output_type": "stream",
     "text": [
      "\n",
      "\n",
      "\n",
      "\n",
      "Training Model: \n",
      "Finished Predictions for Quantile 1\n",
      "0.877976190476\n",
      "                            importance\n",
      "feature                               \n",
      "creation_source                  0.872\n",
      "enabled_for_marketing_drip       0.128\n",
      "opted_in_to_mailing_list         0.000\n"
     ]
    }
   ],
   "source": [
    "# -----------\n",
    "#\n",
    "# Quantile 1\n",
    "#\n",
    "# -----------\n",
    "print('\\n')\n",
    "print('\\n')\n",
    "\n",
    "if q1_df.empty:\n",
    "    print('Quartile 1 is empty:')\n",
    "else:\n",
    "    X = q1_df[['creation_source', 'opted_in_to_mailing_list', 'enabled_for_marketing_drip']]\n",
    "    y = q1_df['classification']\n",
    "    X_train, X_test, y_train, y_test = train_test_split(X,y, test_size = 0.3, random_state = 42)     \n",
    "    \n",
    "    clf = RandomForestClassifier(random_state = 42)\n",
    "    print('Training Model: ')\n",
    "    clf.fit(X_train, y_train)\n",
    "    \n",
    "    y_pred = clf.predict(X_test)\n",
    "    \n",
    "    print('Finished Predictions for Quantile 1')\n",
    "    print(accuracy_score(y_test, y_pred))  \n",
    "    \n",
    "    feature_imps = clf.feature_importances_\n",
    "    importances = pd.DataFrame({'feature':X_train.columns,'importance':np.round(clf.feature_importances_,3)})\n",
    "    importances = importances.sort_values('importance',ascending=False).set_index('feature')\n",
    "    print(importances)\n",
    "    q1_importances = importances\n",
    "# =============================================================================\n",
    "#     importances.plot.bar()\n",
    "#     plt.title('Quantile 1 [0.0432, 0.121]')\n",
    "#     plt.show()\n",
    "#     plt.clf()\n",
    "# ============================================================================="
   ]
  },
  {
   "cell_type": "code",
   "execution_count": 13,
   "metadata": {},
   "outputs": [
    {
     "name": "stdout",
     "output_type": "stream",
     "text": [
      "\n",
      "\n",
      "Quartile 2 is empty:\n"
     ]
    }
   ],
   "source": [
    "# -----------\n",
    "#\n",
    "# Quantile 2\n",
    "#\n",
    "# -----------+\n",
    "print('\\n')\n",
    "    \n",
    "if q2_df.empty:\n",
    "    print('Quartile 2 is empty:')\n",
    "else:    \n",
    "    X = q2_df[['creation_source', 'opted_in_to_mailing_list', 'enabled_for_marketing_drip']]\n",
    "    y = q2_df['classification']\n",
    "    X_train, X_test, y_train, y_test = train_test_split(X,y, test_size = 0.3, random_state = 42)     \n",
    "    \n",
    "    clf = RandomForestClassifier(random_state = 42)\n",
    "    print('Training Model: ')\n",
    "    clf.fit(X_train, y_train)\n",
    "    \n",
    "    y_pred = clf.predict(X_test)\n",
    "    \n",
    "    print('Finished Predictions for Quantile 2')\n",
    "    print(accuracy_score(y_test, y_pred))  \n",
    "    \n",
    "    feature_imps = clf.feature_importances_\n",
    "    importances = pd.DataFrame({'feature':X_train.columns,'importance':np.round(clf.feature_importances_,3)})\n",
    "    importances = importances.sort_values('importance',ascending=False).set_index('feature')\n",
    "    print(importances)\n",
    "    q2_importances = importances\n",
    "# =============================================================================\n",
    "#     importances.plot.bar()\n",
    "#     plt.title('Quantile 2 (0.121, 0.123]')\n",
    "#     plt.show()\n",
    "#     plt.clf()\n",
    "# ============================================================================="
   ]
  },
  {
   "cell_type": "code",
   "execution_count": 14,
   "metadata": {},
   "outputs": [
    {
     "name": "stdout",
     "output_type": "stream",
     "text": [
      "\n",
      "\n",
      "Quartile 3 is empty:\n"
     ]
    }
   ],
   "source": [
    "# -----------\n",
    "#\n",
    "# Quantile 3\n",
    "#\n",
    "# -----------\n",
    "print('\\n')\n",
    "\n",
    "if q3_df.empty:\n",
    "    print('Quartile 3 is empty:')\n",
    "else:    \n",
    "    X = q3_df[['creation_source', 'opted_in_to_mailing_list', 'enabled_for_marketing_drip']]\n",
    "    y = q3_df['classification']\n",
    "    X_train, X_test, y_train, y_test = train_test_split(X,y, test_size = 0.3, random_state = 42)     \n",
    "    \n",
    "    clf = RandomForestClassifier(random_state = 42)\n",
    "    print('Training Model: ')\n",
    "    clf.fit(X_train, y_train) \n",
    "    \n",
    "    y_pred = clf.predict(X_test)\n",
    "    \n",
    "    print('Finished Predictions for Quantile 3')\n",
    "    print(accuracy_score(y_test, y_pred))  \n",
    "    \n",
    "    feature_imps = clf.feature_importances_\n",
    "    importances = pd.DataFrame({'feature':X_train.columns,'importance':np.round(clf.feature_importances_,3)})\n",
    "    importances = importances.sort_values('importance',ascending=False).set_index('feature')\n",
    "    print(importances)\n",
    "    q3_importances = importances\n",
    "# =============================================================================\n",
    "#     importances.plot.bar()\n",
    "#     plt.title('Quantile 3 (0.123, 0.125]')\n",
    "#     plt.show()\n",
    "#     plt.clf()\n",
    "# ============================================================================="
   ]
  },
  {
   "cell_type": "code",
   "execution_count": 15,
   "metadata": {},
   "outputs": [
    {
     "name": "stdout",
     "output_type": "stream",
     "text": [
      "\n",
      "\n",
      "Training Model: \n",
      "Finished Predictions for Quantile 4\n",
      "0.884773662551\n",
      "                            importance\n",
      "feature                               \n",
      "enabled_for_marketing_drip         0.4\n",
      "creation_source                    0.3\n",
      "opted_in_to_mailing_list           0.3\n"
     ]
    }
   ],
   "source": [
    "# -----------\n",
    "#\n",
    "# Quantile 4 \n",
    "#\n",
    "# -----------\n",
    "print('\\n')\n",
    "\n",
    "if q4_df.empty:\n",
    "    print('Quartile 4 is empty:')\n",
    "else:\n",
    "    X = q4_df[['creation_source', 'opted_in_to_mailing_list', 'enabled_for_marketing_drip']]\n",
    "    y = q4_df['classification']\n",
    "    X_train, X_test, y_train, y_test = train_test_split(X,y, test_size = 0.3, random_state = 42)     \n",
    "    \n",
    "    clf = RandomForestClassifier(random_state = 42)\n",
    "    print('Training Model: ')\n",
    "    clf.fit(X_train, y_train)\n",
    "    \n",
    "    y_pred = clf.predict(X_test)\n",
    "    \n",
    "    print('Finished Predictions for Quantile 4')\n",
    "    print(accuracy_score(y_test, y_pred))  \n",
    "        \n",
    "    feature_imps = clf.feature_importances_\n",
    "    importances = pd.DataFrame({'feature':X_train.columns,'importance':np.round(clf.feature_importances_,3)})\n",
    "    importances = importances.sort_values('importance',ascending=False).set_index('feature')\n",
    "    print(importances)\n",
    "    q4_importances = importances\n",
    "# ============================================================================="
   ]
  },
  {
   "cell_type": "code",
   "execution_count": 16,
   "metadata": {},
   "outputs": [
    {
     "name": "stdout",
     "output_type": "stream",
     "text": [
      "\n",
      "\n",
      "Training Model: \n",
      "Finished Predictions for Quantile 5\n",
      "0.883843717001\n",
      "                            importance\n",
      "feature                               \n",
      "creation_source                  0.664\n",
      "opted_in_to_mailing_list         0.178\n",
      "enabled_for_marketing_drip       0.158\n"
     ]
    }
   ],
   "source": [
    "# -----------\n",
    "#\n",
    "# Quantile 5\n",
    "#\n",
    "# -----------\n",
    "print('\\n')\n",
    "\n",
    "if q5_df.empty:\n",
    "    print('Quartile 5 is empty:')\n",
    "else:    \n",
    "    X = q5_df[['creation_source', 'opted_in_to_mailing_list', 'enabled_for_marketing_drip']]\n",
    "    y = q5_df['classification']\n",
    "    X_train, X_test, y_train, y_test = train_test_split(X,y, test_size = 0.3, random_state = 42)     \n",
    "    \n",
    "    clf = RandomForestClassifier(random_state = 42)\n",
    "    print('Training Model: ')\n",
    "    clf.fit(X_train, y_train)\n",
    "    \n",
    "    y_pred = clf.predict(X_test)\n",
    "    \n",
    "    print('Finished Predictions for Quantile 5')\n",
    "    print(accuracy_score(y_test, y_pred))  \n",
    "    \n",
    "    feature_imps = clf.feature_importances_\n",
    "    importances = pd.DataFrame({'feature':X_train.columns,'importance':np.round(clf.feature_importances_,3)})\n",
    "    importances = importances.sort_values('importance',ascending=False).set_index('feature')\n",
    "    print(importances)\n",
    "    q5_importances = importances"
   ]
  },
  {
   "cell_type": "code",
   "execution_count": 17,
   "metadata": {},
   "outputs": [
    {
     "name": "stdout",
     "output_type": "stream",
     "text": [
      "\n",
      "\n",
      "Training Model: \n",
      "Finished Predictions for Quantile 6\n",
      "0.90395480226\n",
      "                            importance\n",
      "feature                               \n",
      "creation_source                    1.0\n",
      "opted_in_to_mailing_list           0.0\n",
      "enabled_for_marketing_drip         0.0\n"
     ]
    }
   ],
   "source": [
    "# -----------\n",
    "#\n",
    "# Quantile 6\n",
    "#\n",
    "# -----------\n",
    "print('\\n')\n",
    "\n",
    "if q6_df.empty:\n",
    "    print('Quartile 6 is empty:')\n",
    "else:\n",
    "    X = q6_df[['creation_source', 'opted_in_to_mailing_list', 'enabled_for_marketing_drip']]\n",
    "    y = q6_df['classification']\n",
    "    X_train, X_test, y_train, y_test = train_test_split(X,y, test_size = 0.3, random_state = 42)     \n",
    "    \n",
    "    clf = RandomForestClassifier(random_state = 42)\n",
    "    print('Training Model: ')\n",
    "    clf.fit(X_train, y_train)\n",
    "    \n",
    "    y_pred = clf.predict(X_test)\n",
    "    \n",
    "    print('Finished Predictions for Quantile 6')\n",
    "    print(accuracy_score(y_test, y_pred))  \n",
    "    \n",
    "    feature_imps = clf.feature_importances_\n",
    "    importances = pd.DataFrame({'feature':X_train.columns,'importance':np.round(clf.feature_importances_,3)})\n",
    "    importances = importances.sort_values('importance',ascending=False).set_index('feature')\n",
    "    print(importances)\n",
    "    q6_importances = importances\n",
    "# =============================================================================\n",
    "#     importances.plot.bar()\n",
    "#     plt.title('Quantile 6 (0.142, 0.148]')\n",
    "#     plt.show()\n",
    "#     plt.clf()\n",
    "# ============================================================================="
   ]
  },
  {
   "cell_type": "code",
   "execution_count": 18,
   "metadata": {},
   "outputs": [],
   "source": [
    "%%capture\n",
    "# -----------\n",
    "#\n",
    "# Quantile 7\n",
    "#\n",
    "# -----------\n",
    "print('\\n')\n",
    "\n",
    "if q7_df.empty:\n",
    "    print('Quartile 7 is empty:')\n",
    "else:    \n",
    "    X = q7_df[['creation_source', 'opted_in_to_mailing_list', 'enabled_for_marketing_drip']]\n",
    "    y = q7_df['classification']\n",
    "    X_train, X_test, y_train, y_test = train_test_split(X,y, test_size = 0.3, random_state = 42)     \n",
    "    \n",
    "    clf = RandomForestClassifier(random_state = 42)\n",
    "    print('Training Model: ')\n",
    "    clf.fit(X_train, y_train)\n",
    "    \n",
    "    y_pred = clf.predict(X_test)\n",
    "    \n",
    "    print('Finished Predictions for Quantile 7')\n",
    "    print(accuracy_score(y_test, y_pred))  \n",
    "    \n",
    "    feature_imps = clf.feature_importances_\n",
    "    importances = pd.DataFrame({'feature':X_train.columns,'importance':np.round(clf.feature_importances_,3)})\n",
    "    importances = importances.sort_values('importance',ascending=False).set_index('feature')\n",
    "    print(importances)\n",
    "    q7_importances = importances\n",
    "# ============================================================================="
   ]
  },
  {
   "cell_type": "code",
   "execution_count": 19,
   "metadata": {},
   "outputs": [
    {
     "name": "stdout",
     "output_type": "stream",
     "text": [
      "\n",
      "\n",
      "Training Model: \n",
      "Finished Predictions for Quantile 8\n",
      "0.851581508516\n",
      "                            importance\n",
      "feature                               \n",
      "creation_source                  0.681\n",
      "opted_in_to_mailing_list         0.172\n",
      "enabled_for_marketing_drip       0.148\n"
     ]
    }
   ],
   "source": [
    "# -----------\n",
    "#\n",
    "# Quantile 8 \n",
    "#\n",
    "# -----------\n",
    "print('\\n')\n",
    "\n",
    "if q8_df.empty:\n",
    "    print('Quartile 8 is empty:')\n",
    "else:\n",
    "    X = q8_df[['creation_source', 'opted_in_to_mailing_list', 'enabled_for_marketing_drip']]\n",
    "    y = q8_df['classification']\n",
    "    X_train, X_test, y_train, y_test = train_test_split(X,y, test_size = 0.3, random_state = 42)     \n",
    "    \n",
    "    clf = RandomForestClassifier(random_state = 42)\n",
    "    print('Training Model: ')\n",
    "    clf.fit(X_train, y_train)\n",
    "    \n",
    "    y_pred = clf.predict(X_test)\n",
    "    \n",
    "    print('Finished Predictions for Quantile 8')\n",
    "    print(accuracy_score(y_test, y_pred))  \n",
    "    \n",
    "    feature_imps = clf.feature_importances_\n",
    "    importances = pd.DataFrame({'feature':X_train.columns,'importance':np.round(clf.feature_importances_,3)})\n",
    "    importances = importances.sort_values('importance',ascending=False).set_index('feature')\n",
    "    print(importances)\n",
    "    q8_importances = importances\n",
    "# =============================================================================\n",
    "#     importances.plot.bar()\n",
    "#     plt.title('Quantile 8 (0.152, 0.222]')\n",
    "#     plt.show()\n",
    "#     plt.clf()\n",
    "# ============================================================================="
   ]
  },
  {
   "cell_type": "markdown",
   "metadata": {},
   "source": [
    "#### Summary of quantile analysis\n",
    "Over several runs the only consistent truth was that the lower probabilities of adopting were correlated with opting into the mailing list. This would imply one of two things:\n",
    "1. The mailing list makes logging in not worthwhile\n",
    "2. Users find the content annoying or the newsletters are being filtered as spam"
   ]
  },
  {
   "cell_type": "markdown",
   "metadata": {},
   "source": [
    "## Write-Up\n",
    "This projects looks at both user engagement (takehome_user_engagement.csv) and user website interactions (takehome_users.csv) among 12,000 users.\n",
    "\n",
    "The task is to determine what contributes to users adopting website visits to Relax.inc as a part of their weekly routine. A user is considered to have adopted the service once they login three times within the same week. After some data wrangling the users were separated into distinct lists of adopted and non-adopted users, which were then used to created two separate dataframes au_df and nau_df. Plots of the variables in these files showed that only three varaibles would be of key interest to differentiate the groups:\n",
    "\n",
    "- creation_source: This refers to where the user's account originated from. Be it google, a referral, or directly from the site. \n",
    "- opted_in_to_mailing_list: This indicates whether or not the user opted into the mailing list. \n",
    "- enabled_for_marketing_drip: Whether or not they are on the regular email marketing drip.\n",
    "\n",
    "After constructing a Random Forest Classifier using a 70/30 train/test split on su_df (This is the users data frame with the columns mentioned above) it was apparent that creation source was the most important variable, followed by opted_in_to_mailing_list followed by enabled_for_marketing_drip.\n",
    "\n",
    "While this informs us that the creation_source is the most important for determining who is likely to become an adopted member, what is indicative of the different degrees of probability that a user will adopt the service. The logical hypothesis would be the creation_source, but by taking quartiles of the predicited probabilities for becoming an adopted member we see another story.\n",
    "\n",
    "After breaking down the quartiles and constructing Random Forest Classifiers on each subset of data we learn that in the least probable bracket whether or not the user opted into the mailing list is the most important. Meanwhile, in the most probable set the most important variable was whether or not they were in the marketing drip.\n",
    "\n",
    "This could point to the mailing list being filtered out as spam by various email servies, or perhaps the users do not like the mailing list content. I would recommend that Relax.Inc do a user survey regarding their mailing list and marketing drip."
   ]
  },
  {
   "cell_type": "code",
   "execution_count": null,
   "metadata": {},
   "outputs": [],
   "source": []
  }
 ],
 "metadata": {
  "kernelspec": {
   "display_name": "Python 3",
   "language": "python",
   "name": "python3"
  },
  "language_info": {
   "codemirror_mode": {
    "name": "ipython",
    "version": 3
   },
   "file_extension": ".py",
   "mimetype": "text/x-python",
   "name": "python",
   "nbconvert_exporter": "python",
   "pygments_lexer": "ipython3",
   "version": "3.6.3"
  }
 },
 "nbformat": 4,
 "nbformat_minor": 2
}
